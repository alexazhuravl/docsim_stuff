{
 "cells": [
  {
   "cell_type": "code",
   "execution_count": 191,
   "metadata": {
    "collapsed": true
   },
   "outputs": [
    {
     "data": {
      "text/plain": [
       "['medication aids',\n 'personal scales',\n 'sensory products',\n 'heat treatment',\n 'application software and mobile apps',\n 'personal mobility and transportation',\n 'transfer aids',\n 'turning aids',\n 'mobility accessories',\n 'assistive products for orientation',\n 'food measuring aids',\n 'food preparation tools',\n 'kitchen appliances',\n 'cooking tools and utensils',\n 'cooking units',\n 'dishwashing equipment',\n 'eating and drinking aids',\n 'storing and serving food equipment',\n 'cutlery',\n 'cups, mugs and glasses',\n 'plates and bowls',\n 'home cleaning equipment',\n 'waste disposal products',\n 'scissors',\n 'laundry, washing and drying clothes aids',\n 'gardening aids',\n 'furniture',\n 'lights',\n 'seats',\n 'seating cushions, pillows and discs',\n 'arm orthoses, supports and stabilisers',\n 'leg orthoses, supports and stabilisers',\n 'bed equipment',\n 'handrails, grabrails and grab bars',\n 'plumbing accessories',\n 'doors',\n 'stair supports',\n 'home safety equipment',\n 'cupboards and drawers',\n 'communication aids and devices',\n 'magnifying devices',\n 'hearing aids',\n 'writing and drawing tools',\n 'calculation aids',\n 'music players and recorders',\n 'telephoning aids',\n 'reminders, alarms and indicators',\n 'clocks and watches',\n 'calendars and diaries',\n 'cognitive support products',\n 'personal safety products',\n 'signs and labels',\n 'reading tools',\n 'computer equipment',\n 'aids for opening and closing',\n 'remote controls',\n 'reachers and grabbers',\n 'fixation and supports',\n 'non slip',\n 'carrying equipment',\n 'containers',\n 'rulers',\n 'thermometers',\n 'color identifiers',\n 'office administration and support equipment',\n 'animal care',\n 'dressing aids',\n 'bathing and showering aids',\n 'nail care aids',\n 'body drying aids',\n 'personal hygiene and skin care aids',\n 'toilet seats, raisers and supports',\n 'sponges, brushes and washcloths',\n 'clothes and shoes',\n 'hair care aids',\n 'incontinence aids',\n 'mirrors',\n 'dental care aids',\n 'footwear aids']"
      ]
     },
     "execution_count": 191,
     "metadata": {},
     "output_type": "execute_result"
    }
   ],
   "source": [
    "import pandas as pd\n",
    "from sklearn.feature_extraction.text import TfidfVectorizer\n",
    "from sklearn.cluster import KMeans\n",
    "from sklearn.metrics import adjusted_rand_score\n",
    "\n",
    "\n",
    "\n",
    "df = pd.read_csv('/home/az/Documents/work/document-similarity/data/innitie_cataloge_20180706.csv')\n",
    "level2 = df['level2'].unique().tolist()\n",
    "data = [x.lower() for x in level2 if isinstance(x, str) and len(x) >=2][1:]\n",
    "\n",
    "data\\\n"
   ]
  },
  {
   "cell_type": "code",
   "execution_count": 192,
   "metadata": {},
   "outputs": [],
   "source": [
    "vectorizer = TfidfVectorizer(stop_words='english')\n"
   ]
  },
  {
   "cell_type": "code",
   "execution_count": 193,
   "metadata": {},
   "outputs": [],
   "source": [
    "X = vectorizer.fit_transform(data)"
   ]
  },
  {
   "cell_type": "code",
   "execution_count": 219,
   "metadata": {
    "collapsed": true
   },
   "outputs": [],
   "source": [
    "true_k = 10\n",
    "km = KMeans(n_clusters=true_k, init='k-means++', max_iter=100, n_init=1)\n",
    "km.fit(X)\n",
    "clusters = km.labels_.tolist()"
   ]
  },
  {
   "cell_type": "code",
   "execution_count": 222,
   "metadata": {
    "collapsed": false
   },
   "outputs": [],
   "source": [
    "categories = { 'data': data, 'cluster': clusters }\n",
    "frame = pd.DataFrame(categories, index = [clusters] , columns = ['data', 'cluster'])\n"
   ]
  },
  {
   "cell_type": "code",
   "execution_count": 253,
   "metadata": {
    "collapsed": true
   },
   "outputs": [
    {
     "name": "stdout",
     "output_type": "stream",
     "text": [
      "Top terms per cluster:\nCluster 0 words: tools\n accessories\n mobility\n cooking\n personal\n cutlery\n scissors\n mirrors\n lights\n containers\nCluster 0 titles: personal scales, heat treatment, application software and mobile apps, personal mobility and transportation, mobility accessories, food preparation tools, cooking tools and utensils, cooking units, cutlery, cups, mugs and glasses, plates and bowls, scissors, furniture, lights, seating cushions, pillows and discs, handrails, grabrails and grab bars, plumbing accessories, doors, cupboards and drawers, writing and drawing tools, music players and recorders, reminders, alarms and indicators, calendars and diaries, signs and labels, reading tools, remote controls, reachers and grabbers, non slip, containers, thermometers, color identifiers, sponges, brushes and washcloths, clothes and shoes, mirrors,\n\nCluster 1 words: equipment\n home\n carrying\n dishwashing\n bed\n computer\n cleaning\n safety\n serving\n storing\nCluster 1 titles: dishwashing equipment, storing and serving food equipment, home cleaning equipment, bed equipment, home safety equipment, computer equipment, carrying equipment, office administration and support equipment,\n\nCluster 2 words: watches\n clocks\n drawers\n eating\n drying\n drinking\n dressing\n drawing\n doors\n cutlery\nCluster 2 titles: clocks and watches,\n\nCluster 3 words: aids\n drying\n hearing\n transfer\n dressing\n footwear\n calculation\n gardening\n telephoning\n medication\nCluster 3 titles: medication aids, transfer aids, turning aids, food measuring aids, eating and drinking aids, laundry, washing and drying clothes aids, gardening aids, hearing aids, calculation aids, telephoning aids, aids for opening and closing, dressing aids, bathing and showering aids, body drying aids, incontinence aids, footwear aids,\n\nCluster 4 words: products\n sensory\n cognitive\n safety\n disposal\n waste\n orientation\n assistive\n support\n personal\nCluster 4 titles: sensory products, assistive products for orientation, waste disposal products, cognitive support products, personal safety products,\n\nCluster 5 words: kitchen\n appliances\n doors\n eating\n drying\n drinking\n dressing\n drawing\n drawers\n disposal\nCluster 5 titles: kitchen appliances,\n\nCluster 6 words: supports\n seats\n stabilisers\n orthoses\n stair\n fixation\n arm\n leg\n toilet\n raisers\nCluster 6 titles: seats, arm orthoses, supports and stabilisers, leg orthoses, supports and stabilisers, stair supports, fixation and supports, toilet seats, raisers and supports,\n\nCluster 7 words: care\n aids\n animal\n dental\n hair\n nail\n skin\n hygiene\n personal\n handrails\nCluster 7 titles: animal care, nail care aids, personal hygiene and skin care aids, hair care aids, dental care aids,\n\nCluster 8 words: devices\n magnifying\n communication\n aids\n drawers\n eating\n drying\n drinking\n dressing\n drawing\nCluster 8 titles: communication aids and devices, magnifying devices,\n\nCluster 9 words: rulers\n doors\n eating\n drying\n drinking\n dressing\n drawing\n drawers\n writing\n equipment\nCluster 9 titles: rulers,\n\n"
     ]
    }
   ],
   "source": [
    "print(\"Top terms per cluster:\")\n",
    "order_centroids = km.cluster_centers_.argsort()[:, ::-1]\n",
    "terms = vectorizer.get_feature_names()\n",
    "\n",
    "for i in range(true_k):\n",
    "    print(\"Cluster %d words:\" % i, end='')\n",
    "    \n",
    "    for ind in order_centroids[i, :10]:\n",
    "        print(' %s' % terms[ind])\n",
    "\n",
    "    print(\"Cluster %d titles:\" % i, end='')\n",
    "    if isinstance (frame.ix[i]['data'], str):\n",
    "        print(' %s,' % frame.ix[i]['data'], end='')\n",
    "    else:\n",
    "        for title in frame.ix[i]['data'].values.tolist():\n",
    "            print(' %s,' % title, end='')\n",
    "    print() #add whitespace\n",
    "    print() #add whitespace\n",
    "\n",
    "\n",
    "\n",
    "\n",
    "\n",
    "\n",
    "\n",
    "\n"
   ]
  },
  {
   "cell_type": "code",
   "execution_count": null,
   "metadata": {},
   "outputs": [],
   "source": []
  }
 ],
 "metadata": {
  "kernelspec": {
   "display_name": "Python 2",
   "language": "python",
   "name": "python2"
  },
  "language_info": {
   "codemirror_mode": {
    "name": "ipython",
    "version": 2
   },
   "file_extension": ".py",
   "mimetype": "text/x-python",
   "name": "python",
   "nbconvert_exporter": "python",
   "pygments_lexer": "ipython2",
   "version": "2.7.6"
  }
 },
 "nbformat": 4,
 "nbformat_minor": 0
}
