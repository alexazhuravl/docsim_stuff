{
 "cells": [
  {
   "cell_type": "code",
   "execution_count": 285,
   "metadata": {
    "collapsed": true
   },
   "outputs": [],
   "source": [
    "import pandas as pd\n",
    "from sklearn.feature_extraction.text import TfidfVectorizer\n",
    "from sklearn.cluster import KMeans\n",
    "from sklearn.metrics import adjusted_rand_score\n",
    "\n",
    "#data\n",
    "\n",
    "df = pd.read_csv('/home/az/Documents/work/document-similarity/data/innitie_cataloge_20180706.csv')\n",
    "\n",
    "#innitie_level2\n",
    "level3 = df['level3 names'].unique().tolist()\n",
    "data = [x.lower() for x in level3 if isinstance(x, str) and len(x) >=2][1:]\n"
   ]
  },
  {
   "cell_type": "code",
   "execution_count": 286,
   "metadata": {},
   "outputs": [],
   "source": [
    "#vectorizing the data\n",
    "\n",
    "vectorizer = TfidfVectorizer(stop_words='english')\n",
    "X = vectorizer.fit_transform(data)\n"
   ]
  },
  {
   "cell_type": "code",
   "execution_count": 288,
   "metadata": {
    "collapsed": true
   },
   "outputs": [
    {
     "name": "stdout",
     "output_type": "stream",
     "text": [
      "Top terms per cluster:\nCluster 0 words: aids\n brushes\n food\n measuring\n incontinence\n thermometers\n chairs\n lights\n scissors\n products\nCluster 0 titles: pill dispensers, personal scales, stimulating lights, fidget toys, weighted blankets, massagers, sensory integration products, pressure wrap garments, hot bottles, neck heating devices, notification tools, learning tools, task management and assistance tools, note taking tools, forearm crutches, crutches, transfer aids, turning aids, umbrellas, orientation markings, navigators, finders, locators, measuring scoops, measuring cups, margarine measurers, measuring spoons, kitchen scales, measuring jugs, vegetable brushes, vegetable dryers, food scissors, choppers, cutting boards and fixators, grinders and mills, slicers and cutters, graters, zesters, cutting machines, splitters, peelers, food blenders and mixers, coffee and tea makers, bread makers, sealers, food processors, cookware, outdoor grill, ovens and microwaves, pots, whisks and brushes, spatulas, special forks, pans, funnels, corkscrews, tongs, strainers, mashers, induction hobs, dishwashing brushes, squeegees, dishwasher, dishcloth pressers, salt and pepper shakers, juicers, food guards, eating kits, feeding aids, kettles, pouring aids, jugs, cake/pie server, spice boxes, utensils, forks, knives, cutlery organisers, special knives, cutlery, spoons, teaspoons and sporks, cup warmers, cups, mugs & glasses, straws, plates, bowls, spray can dispenser levers, dustpans, dust brushes and dust brooms, snow cleaning assistive products, floor mopping equipment, waste bins, scissors, laundry baskets, clothespins, hoses, pruners, lawn mowers, shovels, rakes, shears, pickers, testgrandchild, furnishing elements, reading tables, office work station, projectors, lights, clip on lights, lamps, feeder seats, office chairs, chairs, recliners, floor seats, sitting aids, commode chairs, benches, stools, seat covers, seating cushions, positioning pillows and discs, push cuffs, multi purpose grip, push gloves, bands and elastics, ankle and wrist weights, leg lifters, blankets, pillows, sheets, mattresses, handles and levers, fall prevention kit, taps, shower heads, spray hose, faucets, door operators, door accessories, door locks, access stairs, steps, signaling systems, socket covers, drawer organisers, cupboards, cupboard organization unit, communication devices, visual boards, pocket charts, magnifiers, tv listening speaker, personal sound amplifier, headphones, noise reduction earmuffs, pen, graph papers, white boards, marker pen, scan writers, manual aids for calculating, calculators, music players, telephone aids, telephones, mobile phones, alarms, water thermometers, timers, food thermometers, level indicators, clocks and watches, diaries, calendars and timetables, digital recorders, note takers and players, digital assistant, personal safety products, overlays, tapes, tags, signs and labels, labelers, markers, scan readers, keyboards, computer mice, tap turners, openers and closers, key turners, food openers, remote controls, reachers, fixation products, safety grip socks, anti slip mats, non slip rugs, anti skid tape, safety tread, trolleys, boxes and jars, rulers, thermometers, color identifiers, organizing, sorting and filing papers, office machines, pet feeders, litter box cleaning aids, stocking aids, button aids, trouser aids, special bathtubs and showers, handshowers, bathroom caddy, flood guards, inflatable adult bathtub, towels bars and stands, inserts and shortners, shampooing aids, bathtub splash guards and panels, nail scissors and clippers, nail polish holder, nail brushes, facial headband, bathrobes and towels, hair dryers, body dryer, shower cap, ear plugs, wipers, skin protective agents, skin cleansers and sterilisors, bidets, makeup aids, lotion applicators, wet wipes, bathing sponges, hair brushes, wash mitt, washcloths, foot brushes, body brushes, cleaning brushes, suits, nightwear, ties, hats and helmets, swimwear, underwear, aprons and bibs, scarves, socks, shoes and slippers, robes, jackets and coats, shirts, belts, ironing instruments, shorts and trousers, gloves and mittens, warmers, skirts and dresses, razors, nose trimmer, tweezers, facial hair remover, combs and hairbrushes, single use diapers, continence controller, incontinence stimulators, incontinence alarms, incontinence collectors, bed pans, urinals, incontinence garments, mirrors, toothpaste dispensers, tube squeezers, denture bonding cream, denture case, denture cleaner, toothbrushes, oral hygiene aids, shoe horn and bootjack, sock aids, shoelace aids,\n\nCluster 1 words: trays\n ice\n meal\n delivery\n systems\n boxes\n hairbrushes\n gloves\n graph\n graters\nCluster 1 titles: ice trays, boxes, trays and meal delivery systems, trays,\n\nCluster 2 words: orthoses\n hand\n wrist\n finger\n zipper\n glasses\n gloves\n graph\n graters\n grill\nCluster 2 titles: hand orthoses, wrist orthoses, hand-finger orthoses,\n\nCluster 3 words: general\n clothes\n dressing\n folding\n instruments\n washing\n drying\n garments\n aids\n grip\nCluster 3 titles: washing and drying clothes and garments, general, general dressing aids, clothes folding instruments, clothes general,\n\nCluster 4 words: medication\n guides\n spoons\n reminders\n temperature\n keepers\n garments\n general\n glasses\n gloves\nCluster 4 titles: medication temperature keepers, medication spoons, medication guides, medication reminders,\n\nCluster 5 words: pullers\n zipper\n weed\n plug\n massagers\n hairbrushes\n general\n glasses\n gloves\n graph\nCluster 5 titles: weed pullers, plug pullers, zipper pullers,\n\nCluster 6 words: holders\n pencil\n receiver\n key\n cup\n cutlery\n food\n file\n drinking\n soap\nCluster 6 titles: drinking holders and systems, food holders, cutlery holders, cup holders, soap dispensers and holders, pencil holders, receiver holders, key holders, nail file holders,\n\nCluster 7 words: support\n bath\n tools\n toilet\n book\n frames\n presentation\n cognitive\n browser\n seats\nCluster 7 titles: presentation support tools, browser support tools, bath seats, bath lift pommel, handrails and support rails, cognitive support tools, book support and book holders, back support for bath, toilet support frame with seat, toilet support frames,\n\nCluster 8 words: supports\n pads\n reminders\n arm\n slings\n door\n bathtub\n incontinence\n cast\n whiteboard\nCluster 8 titles: arm slings, wrist hold-down and supports, arm supports, pads, cast supports, door handles, reminders, whiteboard reminders, simple reminders kit, mouse pads, door openers, non slip pads, pet care reminders, bathing supports and stabilisers, bathtub shelves, bathtub slings, portable shower arm mount, toilet arm supports, male incontinence clamps, incontinence bed pads,\n\nCluster 9 words: toilet\n seats\n raisers\n footrest\n paper\n splash\n handles\n guards\n raising\n mechanism\nCluster 9 titles: toilet paper aids, foot operated toilet flushing aid, toilet splash guards, toilet seats, toilet seats with raising mechanism, toilet footrest, toilet raisers, toilet seats with handles,\n\n"
     ]
    }
   ],
   "source": [
    "#k_means desc\n",
    "true_k = 10\n",
    "km = KMeans(n_clusters=true_k, init='k-means++', max_iter=100, n_init=1)\n",
    "km.fit(X)\n",
    "clusters = km.labels_.tolist()\n",
    "categories = { 'data': data, 'cluster': clusters }\n",
    "frame = pd.DataFrame(categories, index = [clusters] , columns = ['data', 'cluster'])\n",
    "\n",
    "print(\"Top terms per cluster:\")\n",
    "order_centroids = km.cluster_centers_.argsort()[:, ::-1]\n",
    "terms = vectorizer.get_feature_names()\n",
    "\n",
    "for i in range(true_k):\n",
    "    print(\"Cluster %d words:\" % i, end='')\n",
    "    \n",
    "    for ind in order_centroids[i, :10]:\n",
    "        print(' %s' % terms[ind])\n",
    "\n",
    "    print(\"Cluster %d titles:\" % i, end='')\n",
    "    if isinstance (frame.loc[i]['data'], str):\n",
    "        print(' %s,' % frame.ix[i]['data'], end='')\n",
    "    else:\n",
    "        for title in frame.loc[i]['data'].values.tolist():\n",
    "            print(' %s,' % title, end='')\n",
    "    print() #add whitespace\n",
    "    print() #add whitespace\n"
   ]
  },
  {
   "cell_type": "code",
   "execution_count": 288,
   "metadata": {},
   "outputs": [],
   "source": [
    ""
   ]
  },
  {
   "cell_type": "code",
   "execution_count": 288,
   "metadata": {},
   "outputs": [],
   "source": []
  },
  {
   "cell_type": "code",
   "execution_count": null,
   "metadata": {},
   "outputs": [],
   "source": []
  }
 ],
 "metadata": {
  "kernelspec": {
   "display_name": "Python 2",
   "language": "python",
   "name": "python2"
  },
  "language_info": {
   "codemirror_mode": {
    "name": "ipython",
    "version": 2
   },
   "file_extension": ".py",
   "mimetype": "text/x-python",
   "name": "python",
   "nbconvert_exporter": "python",
   "pygments_lexer": "ipython2",
   "version": "2.7.6"
  }
 },
 "nbformat": 4,
 "nbformat_minor": 0
}
